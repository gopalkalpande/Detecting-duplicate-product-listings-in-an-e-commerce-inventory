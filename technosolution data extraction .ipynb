{
 "cells": [
  {
   "cell_type": "code",
   "execution_count": 1,
   "metadata": {},
   "outputs": [],
   "source": [
    "import urllib\n",
    "import urllib.request\n",
    "#import cv2\n",
    "from skimage import io\n",
    "import shutil\n",
    "import pandas as pd\n",
    "#from google.colab.patches import cv2_imshow\n"
   ]
  },
  {
   "cell_type": "code",
   "execution_count": 2,
   "metadata": {},
   "outputs": [
    {
     "data": {
      "text/html": [
       "<div>\n",
       "<style scoped>\n",
       "    .dataframe tbody tr th:only-of-type {\n",
       "        vertical-align: middle;\n",
       "    }\n",
       "\n",
       "    .dataframe tbody tr th {\n",
       "        vertical-align: top;\n",
       "    }\n",
       "\n",
       "    .dataframe thead th {\n",
       "        text-align: right;\n",
       "    }\n",
       "</style>\n",
       "<table border=\"1\" class=\"dataframe\">\n",
       "  <thead>\n",
       "    <tr style=\"text-align: right;\">\n",
       "      <th></th>\n",
       "      <th>productId</th>\n",
       "      <th>imageUrlStr</th>\n",
       "      <th>productUrl</th>\n",
       "    </tr>\n",
       "  </thead>\n",
       "  <tbody>\n",
       "    <tr>\n",
       "      <th>0</th>\n",
       "      <td>TOPEG4YDVT9WX6FB</td>\n",
       "      <td>http://img.fkcdn.com/image/apparels-combo/2/f/...</td>\n",
       "      <td>http://dl.flipkart.com/dl/ruhaan-s-casual-slee...</td>\n",
       "    </tr>\n",
       "    <tr>\n",
       "      <th>1</th>\n",
       "      <td>TOPEDBEXXFA89JWG</td>\n",
       "      <td>http://img.fkcdn.com/image/apparels-combo/3/s/...</td>\n",
       "      <td>http://dl.flipkart.com/dl/vama-casual-full-sle...</td>\n",
       "    </tr>\n",
       "    <tr>\n",
       "      <th>2</th>\n",
       "      <td>TOPEGSUWFUUGEXQU</td>\n",
       "      <td>http://img.fkcdn.com/image/apparels-combo/6/r/...</td>\n",
       "      <td>http://dl.flipkart.com/dl/skidlers-casual-shor...</td>\n",
       "    </tr>\n",
       "    <tr>\n",
       "      <th>3</th>\n",
       "      <td>TOPEG4YDFJUTPGZD</td>\n",
       "      <td>http://img.fkcdn.com/image/apparels-combo/b/a/...</td>\n",
       "      <td>http://dl.flipkart.com/dl/ruhaan-s-casual-slee...</td>\n",
       "    </tr>\n",
       "    <tr>\n",
       "      <th>4</th>\n",
       "      <td>TOPEAZU6K7UGGHYH</td>\n",
       "      <td>http://img.fkcdn.com/image/apparels-combo/c/g/...</td>\n",
       "      <td>http://dl.flipkart.com/dl/ruhaan-s-casual-full...</td>\n",
       "    </tr>\n",
       "  </tbody>\n",
       "</table>\n",
       "</div>"
      ],
      "text/plain": [
       "          productId                                        imageUrlStr  \\\n",
       "0  TOPEG4YDVT9WX6FB  http://img.fkcdn.com/image/apparels-combo/2/f/...   \n",
       "1  TOPEDBEXXFA89JWG  http://img.fkcdn.com/image/apparels-combo/3/s/...   \n",
       "2  TOPEGSUWFUUGEXQU  http://img.fkcdn.com/image/apparels-combo/6/r/...   \n",
       "3  TOPEG4YDFJUTPGZD  http://img.fkcdn.com/image/apparels-combo/b/a/...   \n",
       "4  TOPEAZU6K7UGGHYH  http://img.fkcdn.com/image/apparels-combo/c/g/...   \n",
       "\n",
       "                                          productUrl  \n",
       "0  http://dl.flipkart.com/dl/ruhaan-s-casual-slee...  \n",
       "1  http://dl.flipkart.com/dl/vama-casual-full-sle...  \n",
       "2  http://dl.flipkart.com/dl/skidlers-casual-shor...  \n",
       "3  http://dl.flipkart.com/dl/ruhaan-s-casual-slee...  \n",
       "4  http://dl.flipkart.com/dl/ruhaan-s-casual-full...  "
      ]
     },
     "execution_count": 2,
     "metadata": {},
     "output_type": "execute_result"
    }
   ],
   "source": [
    "df1 =pd.read_csv('preprocessed.csv')\n",
    "df1.head()"
   ]
  },
  {
   "cell_type": "markdown",
   "metadata": {},
   "source": [
    "## Here the decisions that I'm making are:\n",
    "1. Choosing the least possible sized image i.e. 200 * 200 so that I don't run out of memory.\n",
    "2. So I will be specifically downloading the second image from all the rows ignoring the rest 3 images.\n"
   ]
  },
  {
   "cell_type": "code",
   "execution_count": 3,
   "metadata": {},
   "outputs": [
    {
     "data": {
      "text/plain": [
       "43981"
      ]
     },
     "execution_count": 3,
     "metadata": {},
     "output_type": "execute_result"
    }
   ],
   "source": [
    "len(df1)"
   ]
  },
  {
   "cell_type": "code",
   "execution_count": 10,
   "metadata": {},
   "outputs": [
    {
     "name": "stdout",
     "output_type": "stream",
     "text": [
      "Collecting urllib2\n"
     ]
    },
    {
     "name": "stderr",
     "output_type": "stream",
     "text": [
      "  ERROR: Could not find a version that satisfies the requirement urllib2 (from versions: none)\n",
      "ERROR: No matching distribution found for urllib2\n"
     ]
    }
   ],
   "source": [
    "!pip3 install urllib2"
   ]
  },
  {
   "cell_type": "code",
   "execution_count": 13,
   "metadata": {},
   "outputs": [
    {
     "data": {
      "text/plain": [
       "<Response [200]>"
      ]
     },
     "execution_count": 13,
     "metadata": {},
     "output_type": "execute_result"
    }
   ],
   "source": [
    "import requests\n",
    "url = df1.imageUrlStr[1]\n",
    "name = df1.productId[i] + '.jpeg'\n",
    "seg = url.split(sep = ';')\n",
    "requests.get(seg[1])"
   ]
  },
  {
   "cell_type": "code",
   "execution_count": null,
   "metadata": {},
   "outputs": [],
   "source": [
    "seg = []\n",
    "error = []\n",
    "for i in range(0, len(df1)):\n",
    "    url = df1.imageUrlStr[i]\n",
    "    name = df1.productId[i] + '.jpeg'\n",
    "    seg = url.split(sep = ';')\n",
    "    request = requests.get(seg[1])\n",
    "    \n",
    "    if request.status_code == 200:\n",
    "        try:\n",
    "            urllib.request.urlretrieve(seg[1], name)\n",
    "        except urllib.error.HTTPError:\n",
    "            #print(e.code)\n",
    "            error.append(df1.productId[i])\n",
    "        except urllib.error.URLError:\n",
    "            #print(e.args)\n",
    "            error.append(df1.productId[i])\n",
    "            \n",
    "    else:\n",
    "        error.append(df1.productId[i])"
   ]
  },
  {
   "cell_type": "code",
   "execution_count": 32,
   "metadata": {},
   "outputs": [
    {
     "data": {
      "text/plain": [
       "90"
      ]
     },
     "execution_count": 32,
     "metadata": {},
     "output_type": "execute_result"
    }
   ],
   "source": [
    "len(error)"
   ]
  },
  {
   "cell_type": "code",
   "execution_count": 33,
   "metadata": {},
   "outputs": [
    {
     "data": {
      "text/plain": [
       "<Response [200]>"
      ]
     },
     "execution_count": 33,
     "metadata": {},
     "output_type": "execute_result"
    }
   ],
   "source": [
    "request = requests.get(seg[1])\n",
    "request"
   ]
  },
  {
   "cell_type": "code",
   "execution_count": 34,
   "metadata": {},
   "outputs": [
    {
     "data": {
      "text/plain": [
       "'TOPENXBE2RVWVVPF.jpeg'"
      ]
     },
     "execution_count": 34,
     "metadata": {},
     "output_type": "execute_result"
    }
   ],
   "source": [
    "name"
   ]
  },
  {
   "cell_type": "code",
   "execution_count": 35,
   "metadata": {},
   "outputs": [
    {
     "data": {
      "text/plain": [
       "1478    TOPENXBE2RVWVVPF\n",
       "Name: productId, dtype: object"
      ]
     },
     "execution_count": 35,
     "metadata": {},
     "output_type": "execute_result"
    }
   ],
   "source": [
    "\n",
    "df1.productId[df1.productId == 'TOPENXBE2RVWVVPF']"
   ]
  },
  {
   "cell_type": "code",
   "execution_count": 36,
   "metadata": {},
   "outputs": [
    {
     "data": {
      "text/plain": [
       "('TOPENXBE2RVWVVPF.jpeg', <http.client.HTTPMessage at 0xf63bb299e8>)"
      ]
     },
     "execution_count": 36,
     "metadata": {},
     "output_type": "execute_result"
    }
   ],
   "source": [
    "urllib.request.urlretrieve(seg[1], name)"
   ]
  }
 ],
 "metadata": {
  "kernelspec": {
   "display_name": "Python 3",
   "language": "python",
   "name": "python3"
  },
  "language_info": {
   "codemirror_mode": {
    "name": "ipython",
    "version": 3
   },
   "file_extension": ".py",
   "mimetype": "text/x-python",
   "name": "python",
   "nbconvert_exporter": "python",
   "pygments_lexer": "ipython3",
   "version": "3.7.0"
  }
 },
 "nbformat": 4,
 "nbformat_minor": 2
}
