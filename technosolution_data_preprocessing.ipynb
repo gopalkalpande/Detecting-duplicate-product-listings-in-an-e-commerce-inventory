{
  "nbformat": 4,
  "nbformat_minor": 0,
  "metadata": {
    "colab": {
      "name": "technosolution data preprocessing.ipynb",
      "version": "0.3.2",
      "provenance": [],
      "collapsed_sections": [],
      "include_colab_link": true
    },
    "kernelspec": {
      "name": "python3",
      "display_name": "Python 3"
    },
    "accelerator": "GPU"
  },
  "cells": [
    {
      "cell_type": "markdown",
      "metadata": {
        "id": "view-in-github",
        "colab_type": "text"
      },
      "source": [
        "<a href=\"https://colab.research.google.com/github/gopalkalpande/Detecting-duplicate-product-listings-in-an-e-commerce-inventory/blob/master/technosolution_data_preprocessing.ipynb\" target=\"_parent\"><img src=\"https://colab.research.google.com/assets/colab-badge.svg\" alt=\"Open In Colab\"/></a>"
      ]
    },
    {
      "cell_type": "code",
      "metadata": {
        "id": "ni_rAbRZuYpg",
        "colab_type": "code",
        "colab": {}
      },
      "source": [
        "%matplotlib inline\n",
        "import warnings\n",
        "warnings.filterwarnings(\"ignore\")\n",
        "\n",
        "\n",
        "import sqlite3\n",
        "import pandas as pd\n",
        "import numpy as np\n",
        "import nltk\n",
        "import string\n",
        "import matplotlib.pyplot as plt\n",
        "import seaborn as sns\n",
        "from sklearn.feature_extraction.text import TfidfTransformer\n",
        "from sklearn.feature_extraction.text import TfidfVectorizer\n",
        "\n",
        "from sklearn.feature_extraction.text import CountVectorizer\n",
        "from sklearn.metrics import confusion_matrix\n",
        "from sklearn import metrics\n",
        "from sklearn.metrics import roc_curve, auc\n",
        "from nltk.stem.porter import PorterStemmer\n",
        "\n",
        "import re\n",
        "# Tutorial about Python regular expressions: https://pymotw.com/2/re/\n",
        "import string\n",
        "from nltk.corpus import stopwords\n",
        "from nltk.stem import PorterStemmer\n",
        "from nltk.stem.wordnet import WordNetLemmatizer\n",
        "\n",
        "from gensim.models import Word2Vec\n",
        "from gensim.models import KeyedVectors\n",
        "import pickle\n",
        "\n",
        "from tqdm import tqdm\n",
        "import os\n",
        "\n",
        "from sklearn.model_selection import train_test_split\n",
        "from sklearn import model_selection\n",
        "\n",
        "from sklearn.naive_bayes import MultinomialNB\n",
        "from sklearn.metrics import f1_score\n",
        "from sklearn.externals import joblib"
      ],
      "execution_count": 0,
      "outputs": []
    },
    {
      "cell_type": "code",
      "metadata": {
        "id": "OcDuFpF1zAcj",
        "colab_type": "code",
        "outputId": "e69ee184-2404-4ec6-d160-d5175da2b041",
        "colab": {
          "base_uri": "https://localhost:8080/",
          "height": 34
        }
      },
      "source": [
        "from google.colab import drive\n",
        "drive.mount('/content/drive')"
      ],
      "execution_count": 2,
      "outputs": [
        {
          "output_type": "stream",
          "text": [
            "Drive already mounted at /content/drive; to attempt to forcibly remount, call drive.mount(\"/content/drive\", force_remount=True).\n"
          ],
          "name": "stdout"
        }
      ]
    },
    {
      "cell_type": "code",
      "metadata": {
        "id": "OI9OZn6uzAfa",
        "colab_type": "code",
        "outputId": "63ddf663-7eda-4d24-b919-eb8b275f7f10",
        "colab": {
          "base_uri": "https://localhost:8080/",
          "height": 85
        }
      },
      "source": [
        "!ls \"/content/drive/My Drive/data/technosolution/\""
      ],
      "execution_count": 3,
      "outputs": [
        {
          "output_type": "stream",
          "text": [
            "'df1.productId[4000]+'\\''.jpeg'\\'''\n",
            " Machinelearning_Assignment\n",
            " Machinelearning_Assignment-20190504T163245Z-001.zip\n",
            " preprocessed.csv\n"
          ],
          "name": "stdout"
        }
      ]
    },
    {
      "cell_type": "code",
      "metadata": {
        "id": "oU4RwLxBzqqQ",
        "colab_type": "code",
        "outputId": "f9732e38-f8bc-4ae5-c05f-1bfbbbdcb822",
        "colab": {
          "base_uri": "https://localhost:8080/",
          "height": 224
        }
      },
      "source": [
        "!wget --header=\"Host: doc-00-90-docs.googleusercontent.com\" --header=\"User-Agent: Mozilla/5.0 (Windows NT 10.0; Win64; x64) AppleWebKit/537.36 (KHTML, like Gecko) Chrome/73.0.3683.103 Safari/537.36\" --header=\"Accept: text/html,application/xhtml+xml,application/xml;q=0.9,image/webp,image/apng,*/*;q=0.8,application/signed-exchange;v=b3\" --header=\"Accept-Language: en-US,en;q=0.9,te;q=0.8\" --header=\"Referer: https://drive.google.com/drive/folders/1fR0KHk5nJpXxFbV5ls24CrtB3uA0hGxv\" --header=\"Cookie: AUTH_cnju7gldtplg5tnpmc7is4aopd1g9b2q_nonce=bmkmg0g6j8na6; _ga=GA1.2.259530805.1548430358; NID=164=Q1l4greqojflMYT-hZ7k68gzR8rRy8IFA6d2mq57LrRjeQFIhs_x_5NPz2LFHglaBC9JEPcxprX9x2ycvosUPDxhcHWbG07gtXH1Fxx9YHa3Sy7V0uuYAI2EWYre2_ZJ7Vyx7Dg7auUMy8h-Amar7uoEj7QKHeg2eBpwvTxHSiM\" --header=\"Connection: keep-alive\" \"https://doc-00-90-docs.googleusercontent.com/docs/securesc/kqa3c7jgtesc23675e7rrupvha80q0dp/k5ubkmq41uqdsn0li8uqorf362m9lq3r/1557064800000/13072423780617688646/14104312713827783075/1ULGDoH0b_U3UBNEFjP7fjM_RBFRC3tiF?e=download&nonce=bmkmg0g6j8na6&user=14104312713827783075&hash=e2edbo1tis3057hp6tii3fjune3tlrdl\" -O \"Machinelearning_Assignment-20190504T163245Z-001.zip\" -c"
      ],
      "execution_count": 0,
      "outputs": [
        {
          "output_type": "stream",
          "text": [
            "--2019-05-05 16:23:36--  https://doc-00-90-docs.googleusercontent.com/docs/securesc/kqa3c7jgtesc23675e7rrupvha80q0dp/k5ubkmq41uqdsn0li8uqorf362m9lq3r/1557064800000/13072423780617688646/14104312713827783075/1ULGDoH0b_U3UBNEFjP7fjM_RBFRC3tiF?e=download&nonce=bmkmg0g6j8na6&user=14104312713827783075&hash=e2edbo1tis3057hp6tii3fjune3tlrdl\n",
            "Resolving doc-00-90-docs.googleusercontent.com (doc-00-90-docs.googleusercontent.com)... 108.177.127.132, 2a00:1450:4013:c07::84\n",
            "Connecting to doc-00-90-docs.googleusercontent.com (doc-00-90-docs.googleusercontent.com)|108.177.127.132|:443... connected.\n",
            "HTTP request sent, awaiting response... 200 OK\n",
            "Length: unspecified [application/x-zip-compressed]\n",
            "Saving to: ‘Machinelearning_Assignment-20190504T163245Z-001.zip’\n",
            "\n",
            "Machinelearning_Ass     [       <=>          ]  67.07M  11.4MB/s    in 5.9s    \n",
            "\n",
            "2019-05-05 16:23:43 (11.4 MB/s) - ‘Machinelearning_Assignment-20190504T163245Z-001.zip’ saved [70328665]\n",
            "\n"
          ],
          "name": "stdout"
        }
      ]
    },
    {
      "cell_type": "code",
      "metadata": {
        "id": "35n4KUW6zAiU",
        "colab_type": "code",
        "outputId": "c007b3e2-a01e-4a11-b429-f1daa07c6762",
        "colab": {
          "base_uri": "https://localhost:8080/",
          "height": 102
        }
      },
      "source": [
        "!unzip Machinelearning_Assignment-20190504T163245Z-001.zip -d \"/content/drive/My Drive/data/technosolution/\""
      ],
      "execution_count": 0,
      "outputs": [
        {
          "output_type": "stream",
          "text": [
            "Archive:  Machinelearning_Assignment-20190504T163245Z-001.zip\n",
            "  inflating: /content/drive/My Drive/data/technosolution/Machinelearning_Assignment/sample.txt  \n",
            "  inflating: /content/drive/My Drive/data/technosolution/Machinelearning_Assignment/Assignment _ Problem Statement.docx  \n",
            "  inflating: /content/drive/My Drive/data/technosolution/Machinelearning_Assignment/Readme.pdf  \n",
            "  inflating: /content/drive/My Drive/data/technosolution/Machinelearning_Assignment/datafile.csv  \n"
          ],
          "name": "stdout"
        }
      ]
    },
    {
      "cell_type": "code",
      "metadata": {
        "id": "SXLlp8qpzAlL",
        "colab_type": "code",
        "outputId": "6690a8b4-fe2f-4424-c142-93e122c895ae",
        "colab": {
          "base_uri": "https://localhost:8080/",
          "height": 34
        }
      },
      "source": [
        "!ls \"/content/drive/My Drive/data/technosolution/\""
      ],
      "execution_count": 0,
      "outputs": [
        {
          "output_type": "stream",
          "text": [
            "Machinelearning_Assignment  Machinelearning_Assignment-20190504T163245Z-001.zip\n"
          ],
          "name": "stdout"
        }
      ]
    },
    {
      "cell_type": "code",
      "metadata": {
        "id": "vddG1SW8zAoB",
        "colab_type": "code",
        "outputId": "edb1ed7c-6be7-48a5-db64-2c3b200456b9",
        "colab": {
          "base_uri": "https://localhost:8080/",
          "height": 34
        }
      },
      "source": [
        "!ls \"/content/drive/My Drive/data/technosolution/Machinelearning_Assignment\""
      ],
      "execution_count": 0,
      "outputs": [
        {
          "output_type": "stream",
          "text": [
            "'Assignment _ Problem Statement.docx'   datafile.csv   Readme.pdf   sample.txt\n"
          ],
          "name": "stdout"
        }
      ]
    },
    {
      "cell_type": "code",
      "metadata": {
        "id": "6zL4inzVzAqr",
        "colab_type": "code",
        "colab": {}
      },
      "source": [
        "df = pd.read_csv(\"/content/drive/My Drive/data/technosolution/Machinelearning_Assignment/datafile.csv\")"
      ],
      "execution_count": 0,
      "outputs": []
    },
    {
      "cell_type": "code",
      "metadata": {
        "id": "clbEkZ1tzAth",
        "colab_type": "code",
        "outputId": "153424a7-e582-457b-dbf6-705fe08b1199",
        "colab": {
          "base_uri": "https://localhost:8080/",
          "height": 381
        }
      },
      "source": [
        "df.head(2)"
      ],
      "execution_count": 0,
      "outputs": [
        {
          "output_type": "execute_result",
          "data": {
            "text/html": [
              "<div>\n",
              "<style scoped>\n",
              "    .dataframe tbody tr th:only-of-type {\n",
              "        vertical-align: middle;\n",
              "    }\n",
              "\n",
              "    .dataframe tbody tr th {\n",
              "        vertical-align: top;\n",
              "    }\n",
              "\n",
              "    .dataframe thead th {\n",
              "        text-align: right;\n",
              "    }\n",
              "</style>\n",
              "<table border=\"1\" class=\"dataframe\">\n",
              "  <thead>\n",
              "    <tr style=\"text-align: right;\">\n",
              "      <th></th>\n",
              "      <th>productId</th>\n",
              "      <th>title</th>\n",
              "      <th>description</th>\n",
              "      <th>imageUrlStr</th>\n",
              "      <th>mrp</th>\n",
              "      <th>sellingPrice</th>\n",
              "      <th>specialPrice</th>\n",
              "      <th>productUrl</th>\n",
              "      <th>categories</th>\n",
              "      <th>productBrand</th>\n",
              "      <th>...</th>\n",
              "      <th>Unnamed: 43</th>\n",
              "      <th>Unnamed: 44</th>\n",
              "      <th>Unnamed: 45</th>\n",
              "      <th>Unnamed: 46</th>\n",
              "      <th>Unnamed: 47</th>\n",
              "      <th>Unnamed: 48</th>\n",
              "      <th>Unnamed: 49</th>\n",
              "      <th>Unnamed: 50</th>\n",
              "      <th>Unnamed: 51</th>\n",
              "      <th>Unnamed: 52</th>\n",
              "    </tr>\n",
              "  </thead>\n",
              "  <tbody>\n",
              "    <tr>\n",
              "      <th>0</th>\n",
              "      <td>TOPE9ABBZU3HZRHN</td>\n",
              "      <td>Citrine Casual Short Sleeve Printed Women's Pi...</td>\n",
              "      <td>This beautiful printed modal top from Citrine ...</td>\n",
              "      <td>http://img.fkcdn.com/image/top/r/h/n/1-1-wwtpw...</td>\n",
              "      <td>1099</td>\n",
              "      <td>329.0</td>\n",
              "      <td>329.0</td>\n",
              "      <td>http://dl.flipkart.com/dl/citrine-casual-short...</td>\n",
              "      <td>Apparels&gt;Women&gt;Western Wear&gt;Shirts, Tops &amp; Tun...</td>\n",
              "      <td>Citrine</td>\n",
              "      <td>...</td>\n",
              "      <td>NaN</td>\n",
              "      <td>NaN</td>\n",
              "      <td>NaN</td>\n",
              "      <td>NaN</td>\n",
              "      <td>NaN</td>\n",
              "      <td>NaN</td>\n",
              "      <td>NaN</td>\n",
              "      <td>NaN</td>\n",
              "      <td>NaN</td>\n",
              "      <td>NaN</td>\n",
              "    </tr>\n",
              "    <tr>\n",
              "      <th>1</th>\n",
              "      <td>TOPE9ABBBTJYDSQE</td>\n",
              "      <td>Citrine Casual Short Sleeve Printed Women's Pi...</td>\n",
              "      <td>This beautiful printed modal top from Citrine ...</td>\n",
              "      <td>http://img.fkcdn.com/image/top/r/h/n/1-1-wwtpw...</td>\n",
              "      <td>1099</td>\n",
              "      <td>329.0</td>\n",
              "      <td>329.0</td>\n",
              "      <td>http://dl.flipkart.com/dl/citrine-casual-short...</td>\n",
              "      <td>Apparels&gt;Women&gt;Western Wear&gt;Shirts, Tops &amp; Tun...</td>\n",
              "      <td>Citrine</td>\n",
              "      <td>...</td>\n",
              "      <td>NaN</td>\n",
              "      <td>NaN</td>\n",
              "      <td>NaN</td>\n",
              "      <td>NaN</td>\n",
              "      <td>NaN</td>\n",
              "      <td>NaN</td>\n",
              "      <td>NaN</td>\n",
              "      <td>NaN</td>\n",
              "      <td>NaN</td>\n",
              "      <td>NaN</td>\n",
              "    </tr>\n",
              "  </tbody>\n",
              "</table>\n",
              "<p>2 rows × 53 columns</p>\n",
              "</div>"
            ],
            "text/plain": [
              "          productId                                              title  \\\n",
              "0  TOPE9ABBZU3HZRHN  Citrine Casual Short Sleeve Printed Women's Pi...   \n",
              "1  TOPE9ABBBTJYDSQE  Citrine Casual Short Sleeve Printed Women's Pi...   \n",
              "\n",
              "                                         description  \\\n",
              "0  This beautiful printed modal top from Citrine ...   \n",
              "1  This beautiful printed modal top from Citrine ...   \n",
              "\n",
              "                                         imageUrlStr   mrp  sellingPrice  \\\n",
              "0  http://img.fkcdn.com/image/top/r/h/n/1-1-wwtpw...  1099         329.0   \n",
              "1  http://img.fkcdn.com/image/top/r/h/n/1-1-wwtpw...  1099         329.0   \n",
              "\n",
              "   specialPrice                                         productUrl  \\\n",
              "0         329.0  http://dl.flipkart.com/dl/citrine-casual-short...   \n",
              "1         329.0  http://dl.flipkart.com/dl/citrine-casual-short...   \n",
              "\n",
              "                                          categories productBrand  ...  \\\n",
              "0  Apparels>Women>Western Wear>Shirts, Tops & Tun...      Citrine  ...   \n",
              "1  Apparels>Women>Western Wear>Shirts, Tops & Tun...      Citrine  ...   \n",
              "\n",
              "  Unnamed: 43  Unnamed: 44  Unnamed: 45  Unnamed: 46  Unnamed: 47  \\\n",
              "0         NaN          NaN          NaN          NaN          NaN   \n",
              "1         NaN          NaN          NaN          NaN          NaN   \n",
              "\n",
              "   Unnamed: 48 Unnamed: 49 Unnamed: 50 Unnamed: 51 Unnamed: 52  \n",
              "0          NaN         NaN         NaN         NaN         NaN  \n",
              "1          NaN         NaN         NaN         NaN         NaN  \n",
              "\n",
              "[2 rows x 53 columns]"
            ]
          },
          "metadata": {
            "tags": []
          },
          "execution_count": 29
        }
      ]
    },
    {
      "cell_type": "code",
      "metadata": {
        "id": "lGzI2Zj1zAwd",
        "colab_type": "code",
        "outputId": "031e38c9-c79b-4492-ce59-a36b2561b4ce",
        "colab": {
          "base_uri": "https://localhost:8080/",
          "height": 255
        }
      },
      "source": [
        "df.columns"
      ],
      "execution_count": 0,
      "outputs": [
        {
          "output_type": "execute_result",
          "data": {
            "text/plain": [
              "Index(['productId', 'title', 'description', 'imageUrlStr', 'mrp',\n",
              "       'sellingPrice', 'specialPrice', 'productUrl', 'categories',\n",
              "       'productBrand', 'productFamily', 'inStock', 'codAvailable', 'offers',\n",
              "       'discount', 'shippingCharges', 'deliveryTime', 'size', 'color',\n",
              "       'sizeUnit', 'storage', 'displaySize', 'keySpecsStr', 'detailedSpecsStr',\n",
              "       'specificationList', 'sellerName', 'sellerAverageRating',\n",
              "       'sellerNoOfRatings', 'sellerNoOfReviews', 'sleeve', 'neck', 'idealFor',\n",
              "       'Unnamed: 32', 'Unnamed: 33', 'Unnamed: 34', 'Unnamed: 35',\n",
              "       'Unnamed: 36', 'Unnamed: 37', 'Unnamed: 38', 'Unnamed: 39',\n",
              "       'Unnamed: 40', 'Unnamed: 41', 'Unnamed: 42', 'Unnamed: 43',\n",
              "       'Unnamed: 44', 'Unnamed: 45', 'Unnamed: 46', 'Unnamed: 47',\n",
              "       'Unnamed: 48', 'Unnamed: 49', 'Unnamed: 50', 'Unnamed: 51',\n",
              "       'Unnamed: 52'],\n",
              "      dtype='object')"
            ]
          },
          "metadata": {
            "tags": []
          },
          "execution_count": 32
        }
      ]
    },
    {
      "cell_type": "code",
      "metadata": {
        "id": "xZEp1om8zAzE",
        "colab_type": "code",
        "outputId": "f5074cb0-0b87-467d-a3c0-4a0cca51e6a0",
        "colab": {
          "base_uri": "https://localhost:8080/",
          "height": 34
        }
      },
      "source": [
        "df.shape"
      ],
      "execution_count": 0,
      "outputs": [
        {
          "output_type": "execute_result",
          "data": {
            "text/plain": [
              "(346902, 53)"
            ]
          },
          "metadata": {
            "tags": []
          },
          "execution_count": 33
        }
      ]
    },
    {
      "cell_type": "code",
      "metadata": {
        "id": "ZRpSGxaXGhoP",
        "colab_type": "code",
        "colab": {}
      },
      "source": [
        "#Sorting data according to ProductId in ascending order\n",
        "df1=df.sort_values('productId', axis=0, ascending=True, inplace=False, kind='quicksort', na_position='last')"
      ],
      "execution_count": 0,
      "outputs": []
    },
    {
      "cell_type": "code",
      "metadata": {
        "id": "9EkKBh7ZHgwU",
        "colab_type": "code",
        "outputId": "34d7e2aa-bd86-4271-e5de-bfcb30771b9d",
        "colab": {
          "base_uri": "https://localhost:8080/",
          "height": 34
        }
      },
      "source": [
        "df1.productId.nunique()"
      ],
      "execution_count": 0,
      "outputs": [
        {
          "output_type": "execute_result",
          "data": {
            "text/plain": [
              "346813"
            ]
          },
          "metadata": {
            "tags": []
          },
          "execution_count": 36
        }
      ]
    },
    {
      "cell_type": "code",
      "metadata": {
        "id": "ikncHWoiGhrF",
        "colab_type": "code",
        "outputId": "2a1b587f-0ace-479b-a851-d287e886a1a3",
        "colab": {
          "base_uri": "https://localhost:8080/",
          "height": 34
        }
      },
      "source": [
        "#Deduplication of entries\n",
        "df1 = df1.drop_duplicates(subset={'productId'}, keep='first', inplace=False)\n",
        "df1.shape"
      ],
      "execution_count": 0,
      "outputs": [
        {
          "output_type": "execute_result",
          "data": {
            "text/plain": [
              "(346813, 53)"
            ]
          },
          "metadata": {
            "tags": []
          },
          "execution_count": 37
        }
      ]
    },
    {
      "cell_type": "code",
      "metadata": {
        "id": "kQ9uXzmaJKkF",
        "colab_type": "code",
        "outputId": "a707e5f7-8a5f-4f19-98e6-8127c2af6832",
        "colab": {
          "base_uri": "https://localhost:8080/",
          "height": 34
        }
      },
      "source": [
        "df1.imageUrlStr.nunique()"
      ],
      "execution_count": 0,
      "outputs": [
        {
          "output_type": "execute_result",
          "data": {
            "text/plain": [
              "87815"
            ]
          },
          "metadata": {
            "tags": []
          },
          "execution_count": 38
        }
      ]
    },
    {
      "cell_type": "code",
      "metadata": {
        "id": "p6QZgLxiGhuF",
        "colab_type": "code",
        "colab": {}
      },
      "source": [
        "#Sorting data according to imageUrlStr in ascending order\n",
        "df1=df1.sort_values('imageUrlStr', axis=0, ascending=True, inplace=False, kind='quicksort', na_position='last')"
      ],
      "execution_count": 0,
      "outputs": []
    },
    {
      "cell_type": "code",
      "metadata": {
        "id": "lI456clSGhxN",
        "colab_type": "code",
        "outputId": "7300641c-ba2d-4fdd-c9f8-2119e52b45c2",
        "colab": {
          "base_uri": "https://localhost:8080/",
          "height": 34
        }
      },
      "source": [
        "#Deduplication of entries\n",
        "df1 = df1.drop_duplicates(subset={'imageUrlStr'}, keep='first', inplace=False)\n",
        "df1.shape"
      ],
      "execution_count": 0,
      "outputs": [
        {
          "output_type": "execute_result",
          "data": {
            "text/plain": [
              "(87815, 53)"
            ]
          },
          "metadata": {
            "tags": []
          },
          "execution_count": 40
        }
      ]
    },
    {
      "cell_type": "code",
      "metadata": {
        "id": "pNMCRr0mJcyE",
        "colab_type": "code",
        "outputId": "470d10bd-f658-4b5e-f8b1-b019ec89e6bb",
        "colab": {
          "base_uri": "https://localhost:8080/",
          "height": 34
        }
      },
      "source": [
        "df1.productUrl.nunique()"
      ],
      "execution_count": 0,
      "outputs": [
        {
          "output_type": "execute_result",
          "data": {
            "text/plain": [
              "87815"
            ]
          },
          "metadata": {
            "tags": []
          },
          "execution_count": 41
        }
      ]
    },
    {
      "cell_type": "code",
      "metadata": {
        "id": "0zrSpxdqJc39",
        "colab_type": "code",
        "outputId": "e7b4e87a-c4a7-4759-e545-911954e08824",
        "colab": {
          "base_uri": "https://localhost:8080/",
          "height": 68
        }
      },
      "source": [
        "df1.inStock.value_counts()"
      ],
      "execution_count": 0,
      "outputs": [
        {
          "output_type": "execute_result",
          "data": {
            "text/plain": [
              "True     43981\n",
              "False    43834\n",
              "Name: inStock, dtype: int64"
            ]
          },
          "metadata": {
            "tags": []
          },
          "execution_count": 43
        }
      ]
    },
    {
      "cell_type": "markdown",
      "metadata": {
        "id": "mhVml5SQKGJ9",
        "colab_type": "text"
      },
      "source": [
        "## As I'm using Google Colab and there are restricted resources; I will try to solve only for the in stock products and going to remove out of stock products."
      ]
    },
    {
      "cell_type": "code",
      "metadata": {
        "id": "60cYOw73KpBk",
        "colab_type": "code",
        "colab": {}
      },
      "source": [
        "df1 = df1[df1.inStock != False]"
      ],
      "execution_count": 0,
      "outputs": []
    },
    {
      "cell_type": "code",
      "metadata": {
        "id": "MYn4RrOYKpo6",
        "colab_type": "code",
        "outputId": "148e1447-6254-4000-b256-d0a4f27b1e3a",
        "colab": {
          "base_uri": "https://localhost:8080/",
          "height": 51
        }
      },
      "source": [
        "df1.inStock.value_counts()"
      ],
      "execution_count": 0,
      "outputs": [
        {
          "output_type": "execute_result",
          "data": {
            "text/plain": [
              "True    43981\n",
              "Name: inStock, dtype: int64"
            ]
          },
          "metadata": {
            "tags": []
          },
          "execution_count": 45
        }
      ]
    },
    {
      "cell_type": "code",
      "metadata": {
        "id": "3TZdt75-Kprz",
        "colab_type": "code",
        "outputId": "48adfff2-77e4-4171-ace1-a8a87ea5ca02",
        "colab": {
          "base_uri": "https://localhost:8080/",
          "height": 34
        }
      },
      "source": [
        "df1.shape"
      ],
      "execution_count": 0,
      "outputs": [
        {
          "output_type": "execute_result",
          "data": {
            "text/plain": [
              "(43981, 53)"
            ]
          },
          "metadata": {
            "tags": []
          },
          "execution_count": 46
        }
      ]
    },
    {
      "cell_type": "markdown",
      "metadata": {
        "id": "gRC3t3V6Lffu",
        "colab_type": "text"
      },
      "source": [
        "#Lets work on NA Values"
      ]
    },
    {
      "cell_type": "code",
      "metadata": {
        "id": "5QaAzt8NLcvj",
        "colab_type": "code",
        "outputId": "af110dbe-9d4f-4578-c02b-fa1cf0b2ca6b",
        "colab": {
          "base_uri": "https://localhost:8080/",
          "height": 935
        }
      },
      "source": [
        "df1.isna().any()"
      ],
      "execution_count": 0,
      "outputs": [
        {
          "output_type": "execute_result",
          "data": {
            "text/plain": [
              "productId              False\n",
              "title                   True\n",
              "description             True\n",
              "imageUrlStr            False\n",
              "mrp                    False\n",
              "sellingPrice            True\n",
              "specialPrice            True\n",
              "productUrl             False\n",
              "categories             False\n",
              "productBrand           False\n",
              "productFamily           True\n",
              "inStock                False\n",
              "codAvailable           False\n",
              "offers                  True\n",
              "discount               False\n",
              "shippingCharges         True\n",
              "deliveryTime            True\n",
              "size                   False\n",
              "color                   True\n",
              "sizeUnit                True\n",
              "storage                 True\n",
              "displaySize             True\n",
              "keySpecsStr             True\n",
              "detailedSpecsStr        True\n",
              "specificationList       True\n",
              "sellerName              True\n",
              "sellerAverageRating    False\n",
              "sellerNoOfRatings       True\n",
              "sellerNoOfReviews       True\n",
              "sleeve                  True\n",
              "neck                    True\n",
              "idealFor                True\n",
              "Unnamed: 32             True\n",
              "Unnamed: 33             True\n",
              "Unnamed: 34             True\n",
              "Unnamed: 35             True\n",
              "Unnamed: 36             True\n",
              "Unnamed: 37             True\n",
              "Unnamed: 38             True\n",
              "Unnamed: 39             True\n",
              "Unnamed: 40             True\n",
              "Unnamed: 41             True\n",
              "Unnamed: 42             True\n",
              "Unnamed: 43             True\n",
              "Unnamed: 44             True\n",
              "Unnamed: 45             True\n",
              "Unnamed: 46             True\n",
              "Unnamed: 47             True\n",
              "Unnamed: 48             True\n",
              "Unnamed: 49             True\n",
              "Unnamed: 50             True\n",
              "Unnamed: 51             True\n",
              "Unnamed: 52             True\n",
              "dtype: bool"
            ]
          },
          "metadata": {
            "tags": []
          },
          "execution_count": 47
        }
      ]
    },
    {
      "cell_type": "code",
      "metadata": {
        "id": "22nSpbymLcyo",
        "colab_type": "code",
        "colab": {}
      },
      "source": [
        "df1 = df1.dropna(axis=1, how='any')"
      ],
      "execution_count": 0,
      "outputs": []
    },
    {
      "cell_type": "code",
      "metadata": {
        "id": "bLJsxG9ILc4x",
        "colab_type": "code",
        "outputId": "86a26534-c0df-4436-eb87-0ebce0b88ce6",
        "colab": {
          "base_uri": "https://localhost:8080/",
          "height": 221
        }
      },
      "source": [
        "df1.isna().any()"
      ],
      "execution_count": 0,
      "outputs": [
        {
          "output_type": "execute_result",
          "data": {
            "text/plain": [
              "productId              False\n",
              "imageUrlStr            False\n",
              "mrp                    False\n",
              "productUrl             False\n",
              "categories             False\n",
              "productBrand           False\n",
              "inStock                False\n",
              "codAvailable           False\n",
              "discount               False\n",
              "size                   False\n",
              "sellerAverageRating    False\n",
              "dtype: bool"
            ]
          },
          "metadata": {
            "tags": []
          },
          "execution_count": 54
        }
      ]
    },
    {
      "cell_type": "code",
      "metadata": {
        "id": "8cST88vGLc_M",
        "colab_type": "code",
        "outputId": "eb310c31-3679-44ba-eb65-214f7abb1bff",
        "colab": {
          "base_uri": "https://localhost:8080/",
          "height": 204
        }
      },
      "source": [
        "# as I consider only in stock data inStock column is irrelevent.\n",
        "# also the columns other than productId, imageUrlStr and productUrl appears to be unrelevent for detecting duplicasy.\n",
        "# so......remove them all.\n",
        "\n",
        "df1 = df1.drop(labels=['mrp', 'categories', 'productBrand', 'inStock', 'codAvailable', 'discount', 'size', 'sellerAverageRating'], axis=1)\n",
        "df1.head()"
      ],
      "execution_count": 0,
      "outputs": [
        {
          "output_type": "execute_result",
          "data": {
            "text/html": [
              "<div>\n",
              "<style scoped>\n",
              "    .dataframe tbody tr th:only-of-type {\n",
              "        vertical-align: middle;\n",
              "    }\n",
              "\n",
              "    .dataframe tbody tr th {\n",
              "        vertical-align: top;\n",
              "    }\n",
              "\n",
              "    .dataframe thead th {\n",
              "        text-align: right;\n",
              "    }\n",
              "</style>\n",
              "<table border=\"1\" class=\"dataframe\">\n",
              "  <thead>\n",
              "    <tr style=\"text-align: right;\">\n",
              "      <th></th>\n",
              "      <th>productId</th>\n",
              "      <th>imageUrlStr</th>\n",
              "      <th>productUrl</th>\n",
              "    </tr>\n",
              "  </thead>\n",
              "  <tbody>\n",
              "    <tr>\n",
              "      <th>155830</th>\n",
              "      <td>TOPEG4YDVT9WX6FB</td>\n",
              "      <td>http://img.fkcdn.com/image/apparels-combo/2/f/...</td>\n",
              "      <td>http://dl.flipkart.com/dl/ruhaan-s-casual-slee...</td>\n",
              "    </tr>\n",
              "    <tr>\n",
              "      <th>157596</th>\n",
              "      <td>TOPEDBEXXFA89JWG</td>\n",
              "      <td>http://img.fkcdn.com/image/apparels-combo/3/s/...</td>\n",
              "      <td>http://dl.flipkart.com/dl/vama-casual-full-sle...</td>\n",
              "    </tr>\n",
              "    <tr>\n",
              "      <th>245150</th>\n",
              "      <td>TOPEGSUWFUUGEXQU</td>\n",
              "      <td>http://img.fkcdn.com/image/apparels-combo/6/r/...</td>\n",
              "      <td>http://dl.flipkart.com/dl/skidlers-casual-shor...</td>\n",
              "    </tr>\n",
              "    <tr>\n",
              "      <th>195773</th>\n",
              "      <td>TOPEG4YDFJUTPGZD</td>\n",
              "      <td>http://img.fkcdn.com/image/apparels-combo/b/a/...</td>\n",
              "      <td>http://dl.flipkart.com/dl/ruhaan-s-casual-slee...</td>\n",
              "    </tr>\n",
              "    <tr>\n",
              "      <th>236377</th>\n",
              "      <td>TOPEAZU6K7UGGHYH</td>\n",
              "      <td>http://img.fkcdn.com/image/apparels-combo/c/g/...</td>\n",
              "      <td>http://dl.flipkart.com/dl/ruhaan-s-casual-full...</td>\n",
              "    </tr>\n",
              "  </tbody>\n",
              "</table>\n",
              "</div>"
            ],
            "text/plain": [
              "               productId                                        imageUrlStr  \\\n",
              "155830  TOPEG4YDVT9WX6FB  http://img.fkcdn.com/image/apparels-combo/2/f/...   \n",
              "157596  TOPEDBEXXFA89JWG  http://img.fkcdn.com/image/apparels-combo/3/s/...   \n",
              "245150  TOPEGSUWFUUGEXQU  http://img.fkcdn.com/image/apparels-combo/6/r/...   \n",
              "195773  TOPEG4YDFJUTPGZD  http://img.fkcdn.com/image/apparels-combo/b/a/...   \n",
              "236377  TOPEAZU6K7UGGHYH  http://img.fkcdn.com/image/apparels-combo/c/g/...   \n",
              "\n",
              "                                               productUrl  \n",
              "155830  http://dl.flipkart.com/dl/ruhaan-s-casual-slee...  \n",
              "157596  http://dl.flipkart.com/dl/vama-casual-full-sle...  \n",
              "245150  http://dl.flipkart.com/dl/skidlers-casual-shor...  \n",
              "195773  http://dl.flipkart.com/dl/ruhaan-s-casual-slee...  \n",
              "236377  http://dl.flipkart.com/dl/ruhaan-s-casual-full...  "
            ]
          },
          "metadata": {
            "tags": []
          },
          "execution_count": 55
        }
      ]
    },
    {
      "cell_type": "code",
      "metadata": {
        "id": "VgbczphiLc8J",
        "colab_type": "code",
        "outputId": "9f67cd95-73d0-42d2-e805-6510e064dde8",
        "colab": {
          "base_uri": "https://localhost:8080/",
          "height": 85
        }
      },
      "source": [
        "df1.nunique()"
      ],
      "execution_count": 0,
      "outputs": [
        {
          "output_type": "execute_result",
          "data": {
            "text/plain": [
              "productId      43981\n",
              "imageUrlStr    43981\n",
              "productUrl     43981\n",
              "dtype: int64"
            ]
          },
          "metadata": {
            "tags": []
          },
          "execution_count": 56
        }
      ]
    },
    {
      "cell_type": "code",
      "metadata": {
        "id": "egE_9rQ6Lc1_",
        "colab_type": "code",
        "outputId": "2d1343e7-2e3a-4d2a-a4cb-80f51888330a",
        "colab": {
          "base_uri": "https://localhost:8080/",
          "height": 34
        }
      },
      "source": [
        "df1.shape"
      ],
      "execution_count": 0,
      "outputs": [
        {
          "output_type": "execute_result",
          "data": {
            "text/plain": [
              "(43981, 3)"
            ]
          },
          "metadata": {
            "tags": []
          },
          "execution_count": 57
        }
      ]
    },
    {
      "cell_type": "markdown",
      "metadata": {
        "id": "q96KgE0sPk1n",
        "colab_type": "text"
      },
      "source": [
        "# Now as the rows contains only unique information, I will move forward to data extraction in the next file."
      ]
    }
  ]
}